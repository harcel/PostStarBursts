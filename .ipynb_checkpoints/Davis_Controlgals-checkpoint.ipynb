{
 "cells": [
  {
   "cell_type": "markdown",
   "metadata": {},
   "source": [
    "# Contorl galaxies\n",
    "The Davis+ paper works with control galaxies as well. Here is how to read those an what is stored in those."
   ]
  },
  {
   "cell_type": "code",
   "execution_count": 1,
   "metadata": {},
   "outputs": [],
   "source": [
    "from scipy.io import readsav\n",
    "import pandas as pd\n",
    "import numpy as np\n",
    "import matplotlib.pyplot as plt"
   ]
  },
  {
   "cell_type": "code",
   "execution_count": 2,
   "metadata": {},
   "outputs": [],
   "source": [
    "content = readsav('data/COMPARISONGAL_properties_new.sav', python_dict=True)\n",
    "# PSBs = pd.DataFrame(content)"
   ]
  },
  {
   "cell_type": "code",
   "execution_count": 3,
   "metadata": {},
   "outputs": [
    {
     "name": "stdout",
     "output_type": "stream",
     "text": [
      "subgal_thatdropped            , Shape: (1244,)\n",
      "gal_thatdropped               , Shape: (1244,)\n",
      "dropsize                      , Shape: (1244,)\n",
      "mass_at_burst                 , Shape: (1244,)\n",
      "zdrop                         , Shape: (1244,)\n",
      "comparisongal_mstar_hist      , Shape: (201, 10, 1244)\n",
      "comparisongal_mhalo           , Shape: (201, 10, 1244)\n",
      "comparisongal_mgas_all        , Shape: (201, 10, 1244)\n",
      "comparisongal_groupnum_hist   , Shape: (201, 10, 1244)\n",
      "comparisongal_subgroupnum_hist, Shape: (201, 10, 1244)\n",
      "comparisongal_cent_of_pot     , Shape: (201, 3, 10, 1244)\n",
      "comparisongal_topleaf         , Shape: (10, 1244)\n",
      "comparisongal_lastmerger_time , Shape: (10, 1244)\n",
      "comparisongal_lastmerger_mass_ratio, Shape: (10, 1244)\n",
      "comparisongal_bh_acc_rate     , Shape: (10, 1244)\n",
      "comparisongal_bh_acc_rate_max , Shape: (10, 1244)\n",
      "comparisongal_bh_acc_rate_hist, Shape: (201, 10, 1244)\n",
      "comparisongal_bh_acc_rate_pop , Shape: (10, 1244)\n",
      "comparisongal_bh_acc_rate_max_pop, Shape: (10, 1244)\n",
      "comparisongal_bh_acc_rate_max_pop_stdev, Shape: (10, 1244)\n",
      "comparisongal_bh_acc_rate_pop_stdev, Shape: (10, 1244)\n",
      "comparisongal_halfmassrad     , Shape: (201, 10, 1244)\n"
     ]
    }
   ],
   "source": [
    "for k in content.keys(): print(f'{k:<30s}, Shape: {np.shape(content[k])}')"
   ]
  },
  {
   "cell_type": "code",
   "execution_count": 4,
   "metadata": {},
   "outputs": [
    {
     "data": {
      "text/plain": [
       "array([ 6.9      ,  9.6      ,  5.7000003, ..., 11.1      , 11.1      ,\n",
       "       11.1      ], dtype=float32)"
      ]
     },
     "execution_count": 4,
     "metadata": {},
     "output_type": "execute_result"
    }
   ],
   "source": [
    "content['zdrop']"
   ]
  },
  {
   "cell_type": "code",
   "execution_count": null,
   "metadata": {},
   "outputs": [],
   "source": []
  },
  {
   "cell_type": "code",
   "execution_count": null,
   "metadata": {},
   "outputs": [],
   "source": []
  }
 ],
 "metadata": {
  "kernelspec": {
   "display_name": "Python 3",
   "language": "python",
   "name": "python3"
  },
  "language_info": {
   "codemirror_mode": {
    "name": "ipython",
    "version": 3
   },
   "file_extension": ".py",
   "mimetype": "text/x-python",
   "name": "python",
   "nbconvert_exporter": "python",
   "pygments_lexer": "ipython3",
   "version": "3.8.8"
  }
 },
 "nbformat": 4,
 "nbformat_minor": 4
}
