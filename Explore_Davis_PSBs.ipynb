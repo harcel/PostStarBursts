{
 "cells": [
  {
   "cell_type": "code",
   "execution_count": 1,
   "id": "55c47c6a-a3d5-4ed3-8d9e-0473fb3e3f04",
   "metadata": {},
   "outputs": [],
   "source": [
    "import pandas as pd\n",
    "import numpy as np\n",
    "import matplotlib.pyplot as plt\n",
    "import seaborn as sns\n",
    "\n",
    "from scipy.io import readsav\n",
    "from scipy import interpolate\n",
    "\n",
    "plt.rcParams['axes.facecolor'] = 'white'\n",
    "plt.rcParams['savefig.facecolor'] = 'white'\n",
    "\n",
    "import warnings\n",
    "from pandas.core.common import SettingWithCopyWarning\n",
    "warnings.simplefilter(action=\"ignore\", category=SettingWithCopyWarning)\n",
    "\n"
   ]
  },
  {
   "cell_type": "code",
   "execution_count": 2,
   "id": "f5f1f798-ba87-41dc-aa8b-ecffa3419f76",
   "metadata": {},
   "outputs": [],
   "source": [
    "PSB_savfile = 'data/PSB_EAGLE_properties_Davis19.sav'"
   ]
  },
  {
   "cell_type": "code",
   "execution_count": 3,
   "id": "063ab766-cd1a-42dc-afa9-83bd4209d737",
   "metadata": {},
   "outputs": [],
   "source": [
    "content = readsav(PSB_savfile, python_dict=True, )\n",
    "# zdrop seems to be lookbacktime!!\n",
    "content['lbt_drop'] = content.pop('zdrop')"
   ]
  },
  {
   "cell_type": "code",
   "execution_count": 4,
   "id": "7848286e-3b38-49e8-800e-bfd236d563a2",
   "metadata": {},
   "outputs": [],
   "source": [
    "# two little convenience functions\n",
    "z_to_lbt = interpolate.interp1d(content['redshift_mt'], content['lbt_mt'], kind='linear')\n",
    "lbt_to_z = interpolate.interp1d(content['lbt_mt'], content['redshift_mt'], kind='linear')\n"
   ]
  },
  {
   "cell_type": "code",
   "execution_count": 5,
   "id": "28126e8b-c52b-4193-84f7-ff599fa58cef",
   "metadata": {},
   "outputs": [
    {
     "name": "stdout",
     "output_type": "stream",
     "text": [
      "subgal_thatdropped            , Shape: (1244,)\n",
      "gal_thatdropped               , Shape: (1244,)\n",
      "dropsize                      , Shape: (1244,)\n",
      "mass_at_burst                 , Shape: (1244,)\n",
      "psb_mstar                     , Shape: (201, 1244)\n",
      "psb_mhalo                     , Shape: (201, 1244)\n",
      "psb_mgas_all                  , Shape: (201, 1244)\n",
      "psb_groupnum                  , Shape: (201, 1244)\n",
      "psb_subgroupnum               , Shape: (201, 1244)\n",
      "psb_cent_of_pot               , Shape: (201, 3, 1244)\n",
      "halosmass_at_drop             , Shape: (1244,)\n",
      "stellarmass_at_drop           , Shape: (1244,)\n",
      "nearest_halo_rvir             , Shape: (1244,)\n",
      "sub_atdrop                    , Shape: (1244,)\n",
      "n_10mpc                       , Shape: (1244,)\n",
      "rho_10mpc                     , Shape: (1244,)\n",
      "sigma_10mpc                   , Shape: (1244,)\n",
      "n_5mpc                        , Shape: (1244,)\n",
      "rho_5mpc                      , Shape: (1244,)\n",
      "sigma_5mpc                    , Shape: (1244,)\n",
      "psb_topleaf                   , Shape: (1244,)\n",
      "psb_lastmerger_time           , Shape: (1244,)\n",
      "psb_lastmerger_mass_ratio     , Shape: (1244,)\n",
      "psb_bh_acc_rate               , Shape: (1244,)\n",
      "psb_bh_acc_rate_max           , Shape: (1244,)\n",
      "snipref_mt                    , Shape: (201,)\n",
      "lbt_mt                        , Shape: (201,)\n",
      "psb_bh_acc_rate_hist          , Shape: (201, 1244)\n",
      "psb_bh_acc_rate_pop           , Shape: (1244,)\n",
      "psb_bh_acc_rate_max_pop       , Shape: (1244,)\n",
      "psb_bh_acc_rate_max_pop_stdev , Shape: (1244,)\n",
      "psb_bh_acc_rate_pop_stdev     , Shape: (1244,)\n",
      "psb_halfmassrad               , Shape: (201, 1244)\n",
      "psb_mgas_sf                   , Shape: (201, 1244)\n",
      "psb_mgas_sf_30                , Shape: (201, 1244)\n",
      "psb_mstar_30                  , Shape: (201, 1244)\n",
      "psb_sfr                       , Shape: (201, 1244)\n",
      "psb_sfr_30                    , Shape: (201, 1244)\n",
      "done                          , Shape: ()\n",
      "psb_halfmass_rad_sfgas        , Shape: (201, 1244)\n",
      "psb_gasdens_avg               , Shape: (2, 201, 1244)\n",
      "psb_gaspressure_avg           , Shape: (2, 201, 1244)\n",
      "psb_mgas_sf_30_gt1            , Shape: (201, 1244)\n",
      "psb_mgas_sf_30_gt10           , Shape: (201, 1244)\n",
      "redshift_mt                   , Shape: (201,)\n",
      "lbt_drop                      , Shape: (1244,)\n"
     ]
    }
   ],
   "source": [
    "# So what's in there?\n",
    "for k in content.keys(): print(f'{k:<30s}, Shape: {np.shape(content[k])}')"
   ]
  },
  {
   "cell_type": "code",
   "execution_count": 6,
   "id": "e7b6fd7e-228b-4526-9010-2f1e2a24a398",
   "metadata": {},
   "outputs": [
    {
     "data": {
      "text/plain": [
       "[]"
      ]
     },
     "execution_count": 6,
     "metadata": {},
     "output_type": "execute_result"
    },
    {
     "data": {
      "image/png": "[encoded data removed]",
      "text/plain": [
       "<Figure size 432x288 with 1 Axes>"
      ]
     },
     "metadata": {
      "needs_background": "light"
     },
     "output_type": "display_data"
    }
   ],
   "source": [
    "plt.hist(lbt_to_z(content['lbt_drop']))\n",
    "plt.semilogy()"
   ]
  },
  {
   "cell_type": "code",
   "execution_count": 11,
   "id": "d242155a-52d8-49ac-b1bb-9142279a23f3",
   "metadata": {},
   "outputs": [
    {
     "data": {
      "text/plain": [
       "array([  0.0164102 ,   0.01685604,   0.01737381,   0.01773412,\n",
       "         0.01820401,   0.01859857,   0.01899612,   0.01938563,\n",
       "         0.01977815,   0.02011532,   0.02048007,   0.02079902,\n",
       "         0.02113622,   0.02146684,   0.02175791,   0.02206327,\n",
       "         0.02233539,   0.02261899,   0.0228832 ,   0.02314613,\n",
       "         0.02338321,   0.02362117,   0.0238466 ,   0.02407119,\n",
       "         0.02426474,   0.02445677,   0.0246508 ,   0.02482903,\n",
       "         0.0249981 ,   0.02515564,   0.02529726,   0.0254512 ,\n",
       "         0.02557165,   0.02569097,   0.02580498,   0.02591887,\n",
       "         0.02603487,   0.02616243,   0.02629   ,   0.02641181,\n",
       "         0.0265635 ,   0.02671013,   0.02686054,   0.02701221,\n",
       "         0.04084072,   0.02744123,   0.02763563,   0.02782758,\n",
       "         0.02803151,   0.02824434,   0.02846015,   0.0286945 ,\n",
       "         0.02893931,   0.02917657,   0.02945313,   0.02972171,\n",
       "         0.03000096,   0.0302933 ,   0.01527344,   0.03075027,\n",
       "         0.03109037,   0.03142327,   0.03176347,   0.03213604,\n",
       "         0.03250276,   0.03289646,   0.03329316,   0.03369951,\n",
       "         0.03413613,   0.03457094,   0.03503132,   0.03549769,\n",
       "         0.03598812,   0.03648943,   0.03699465,   0.03752257,\n",
       "         0.03808208,   0.05816585,   0.03949914,   0.04010811,\n",
       "         0.04073282,   0.04136337,   0.04201033,   0.0426743 ,\n",
       "         0.04336911,   0.04406939,   0.0447772 ,   0.04552487,\n",
       "         0.04627914,   0.04705416,   0.04785066,   0.04863972,\n",
       "         0.02463896,   0.04989961,   0.05075276,   0.05164019,\n",
       "         0.05251289,   0.05343932,   0.05435636,   0.05532112,\n",
       "         0.05627922,   0.05726677,   0.05827899,   0.05930765,\n",
       "         0.06034384,   0.06141474,   0.06250292,   0.0636022 ,\n",
       "         0.06472678,   0.06586748,   0.06702098,   0.06821405,\n",
       "         0.0693882 ,   0.07063512,   0.07185231,   0.07310856,\n",
       "         0.07437609,   0.07568779,   0.07697759,   0.07830408,\n",
       "         0.07965287,   0.0810163 ,   0.08240209,   0.08377387,\n",
       "         0.08519552,   0.08661034,   0.08805492,   0.08950398,\n",
       "         0.09098283,   0.09245652,   0.09395055,   0.09546492,\n",
       "         0.09698107,   0.09851201,   0.10004785,   0.10155382,\n",
       "         0.10300746,   0.10446943,   0.10585854,   0.10723633,\n",
       "         0.10855736,   0.10984412,   0.11109688,   0.11230798,\n",
       "         0.11346939,   0.11458657,   0.1156879 ,   0.11671016,\n",
       "         0.11772689,   0.11866537,   0.11956901,   0.12042162,\n",
       "         0.12126329,   0.12201494,   0.18438276,   0.12376348,\n",
       "         0.12435705,   0.12492735,   0.12545493,   0.12591941,\n",
       "         0.1263619 ,   0.12674937,   0.12706736,   0.12736833,\n",
       "         0.12762554,   0.12781792,   0.12799632,   0.12809856,\n",
       "         0.12818667,   0.12821172,   0.12821942,   0.1281672 ,\n",
       "         0.12808353,   0.12793946,   0.12779342,   0.12758727,\n",
       "         0.12738778,   0.12714373,   0.12690052,   0.12662887,\n",
       "         0.12634453,   0.12604057,   0.12572536,   0.12539579,\n",
       "         0.12503687,   0.12467259,   0.12430378,   0.1239114 ,\n",
       "         0.12350388,   0.12306775,   0.12265981,   0.12220441,\n",
       "         0.12175849,   0.12127598,   0.06046614,   0.12056836,\n",
       "         0.12007006,   0.1195656 ,   0.11907223,   0.05932272,\n",
       "       -13.63869269])"
      ]
     },
     "execution_count": 11,
     "metadata": {},
     "output_type": "execute_result"
    }
   ],
   "source": [
    "# How much lookback time is between consecutive lookback times?\n",
    "content['lbt_mt'] - np.roll(content['lbt_mt'],-1)"
   ]
  }
 ],
 "metadata": {
  "kernelspec": {
   "display_name": "Python 3",
   "language": "python",
   "name": "python3"
  },
  "language_info": {
   "codemirror_mode": {
    "name": "ipython",
    "version": 3
   },
   "file_extension": ".py",
   "mimetype": "text/x-python",
   "name": "python",
   "nbconvert_exporter": "python",
   "pygments_lexer": "ipython3",
   "version": "3.8.8"
  }
 },
 "nbformat": 4,
 "nbformat_minor": 5
}
